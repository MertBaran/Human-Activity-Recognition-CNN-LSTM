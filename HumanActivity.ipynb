{
 "cells": [
  {
   "cell_type": "code",
   "execution_count": 1,
   "id": "183ad9bb",
   "metadata": {},
   "outputs": [],
   "source": [
    "import os\n",
    "import cv2\n",
    "import random\n",
    "import numpy as np\n",
    "import datetime as dt\n",
    "import tensorflow as tf\n",
    "from collections import deque\n",
    "import matplotlib.pyplot as plt\n",
    " \n",
    "from moviepy.editor import *\n",
    "%matplotlib inline\n",
    " \n",
    "from sklearn.model_selection import train_test_split\n",
    " \n",
    "from tensorflow.keras.layers import *\n",
    "from tensorflow.keras.models import Sequential\n",
    "from tensorflow.keras.utils import to_categorical\n",
    "from tensorflow.keras.callbacks import EarlyStopping\n",
    "from tensorflow.keras.utils import plot_model"
   ]
  },
  {
   "cell_type": "code",
   "execution_count": 2,
   "id": "63bc511c",
   "metadata": {},
   "outputs": [],
   "source": [
    "# using this parameter makes sure that anyone who re-runs your code will get the exact same outputs.\n",
    "seed_constant = 27\n",
    "np.random.seed(seed_constant)\n",
    "random.seed(seed_constant)\n",
    "tf.random.set_seed(seed_constant)"
   ]
  },
  {
   "cell_type": "code",
   "execution_count": 15,
   "id": "6c31d128",
   "metadata": {},
   "outputs": [],
   "source": [
    "# frame size\n",
    "Image_height, Image_width = 64, 64\n",
    "\n",
    "# specify the number of frames of a video that will be fed to the model as one sequence.\n",
    "sequence_length = 30\n",
    "\n",
    "# dataset path\n",
    "Dataset_dir = \"UFC50\"\n",
    "\n",
    "# Activities that will predict\n",
    "class_list =  [\"Basketball\", \"Biking\", \"WalkingWithDog\", \"HorseRace\", \"PlayingGuitar\", \"PlayingPiano\", \"Punch\", \"Skiing\", \"GolfSwing\"]"
   ]
  },
  {
   "cell_type": "code",
   "execution_count": null,
   "id": "9c0ad579",
   "metadata": {},
   "outputs": [],
   "source": [
    "# this function will extract the required frames from a video after resizing and normalizing them.\n",
    "def frames_extraction(video_path):\n",
    "    \n",
    "    # list to store frames in video\n",
    "    frames_list = []\n",
    "\n",
    "    # read the video\n",
    "    video_reader = cv2.VideoCapture(video_path)\n",
    "    \n",
    "    # total numbers of frame in the video\n",
    "    video_frames_count = int(video_reader(cv2.CAP_PROP_FRAME_COUNT))\n",
    "    \n",
    "    # calculate the the interval after which frames will be added to the list\n",
    "    skip_frames_window = max(int(video_frames_count/sequence_length), 1)\n",
    "    \n",
    "    for frame_counter in range(sequence_length):\n",
    "        \n",
    "        # set the current frame position of the video\n",
    "        video_reader.set(cv2.CAP_PROP_POS_FRAMES, frame_counter * skip_frames_window)\n",
    "        \n",
    "        # reading the frame from the video.\n",
    "        success, frame = video_reader.read() \n",
    "        \n",
    "         if not success:\n",
    "            break\n",
    " \n",
    "         # resize the Frame to fixed height and width.\n",
    "        resized_frame = cv2.resize(frame, (IMAGE_HEIGHT, IMAGE_WIDTH))\n",
    "        \n",
    "        #  normalize the resized frame by dividing it with 255 so that each pixel value then lies between 0 and 1\n",
    "        normalized_frame = resized_frame / 255\n",
    "        \n",
    "        # append the normalized frame into the frames list\n",
    "        frames_list.append(normalized_frame)\n",
    "    \n",
    "    video_reader.release()\n",
    "\n",
    "    return frames_list\n"
   ]
  },
  {
   "cell_type": "code",
   "execution_count": null,
   "id": "1cd3f92b",
   "metadata": {},
   "outputs": [],
   "source": []
  },
  {
   "cell_type": "code",
   "execution_count": null,
   "id": "02d2d6a5",
   "metadata": {},
   "outputs": [],
   "source": []
  },
  {
   "cell_type": "code",
   "execution_count": null,
   "id": "00d518bb",
   "metadata": {},
   "outputs": [],
   "source": []
  },
  {
   "cell_type": "code",
   "execution_count": null,
   "id": "29d6188c",
   "metadata": {},
   "outputs": [],
   "source": []
  },
  {
   "cell_type": "code",
   "execution_count": null,
   "id": "d319a585",
   "metadata": {},
   "outputs": [],
   "source": []
  },
  {
   "cell_type": "code",
   "execution_count": null,
   "id": "dc7b28b8",
   "metadata": {},
   "outputs": [],
   "source": []
  },
  {
   "cell_type": "code",
   "execution_count": null,
   "id": "94bfbd94",
   "metadata": {},
   "outputs": [],
   "source": []
  }
 ],
 "metadata": {
  "kernelspec": {
   "display_name": "Python 3",
   "language": "python",
   "name": "python3"
  },
  "language_info": {
   "codemirror_mode": {
    "name": "ipython",
    "version": 3
   },
   "file_extension": ".py",
   "mimetype": "text/x-python",
   "name": "python",
   "nbconvert_exporter": "python",
   "pygments_lexer": "ipython3",
   "version": "3.8.8"
  }
 },
 "nbformat": 4,
 "nbformat_minor": 5
}
